{
 "cells": [
  {
   "cell_type": "markdown",
   "metadata": {},
   "source": [
    "## Numpy - 3\n",
    "### Agenda \n",
    "    1. Sorting\n",
    "    2. Multiplication\n",
    "    3. Vectorization\n",
    "    4. Broadcasting"
   ]
  },
  {
   "cell_type": "code",
   "execution_count": 3,
   "metadata": {},
   "outputs": [],
   "source": [
    "import numpy as np"
   ]
  },
  {
   "cell_type": "markdown",
   "metadata": {},
   "source": [
    "## Sorting a Numpy Array"
   ]
  },
  {
   "cell_type": "markdown",
   "metadata": {},
   "source": [
    "### Sorting a 1D array\n",
    "#### sort() function\n"
   ]
  },
  {
   "cell_type": "code",
   "execution_count": 4,
   "metadata": {},
   "outputs": [
    {
     "name": "stdout",
     "output_type": "stream",
     "text": [
      "[ 1  2  4  5 10 12 13 15 19 20]\n"
     ]
    }
   ],
   "source": [
    "arr = np.array([10,15,2,4,20,13,12,1,5,19])\n",
    "#sort() function\n",
    "print(np.sort(arr))"
   ]
  },
  {
   "cell_type": "markdown",
   "metadata": {},
   "source": [
    "np.sort() does not have a way to sort in descending order\n",
    "so in order to do descending order sort we do: ascending order sort + reverse the array"
   ]
  },
  {
   "cell_type": "code",
   "execution_count": 5,
   "metadata": {},
   "outputs": [
    {
     "name": "stdout",
     "output_type": "stream",
     "text": [
      "[20 19 15 13 12 10  5  4  2  1]\n"
     ]
    }
   ],
   "source": [
    "print(np.sort(arr)[::-1])"
   ]
  },
  {
   "cell_type": "markdown",
   "metadata": {},
   "source": [
    "Another method we can use is by using a negative sign in front of the array to convert the array elements to a negative int before sorting and then remove the negative sign after sorting."
   ]
  },
  {
   "cell_type": "code",
   "execution_count": 6,
   "metadata": {},
   "outputs": [
    {
     "name": "stdout",
     "output_type": "stream",
     "text": [
      "[10 15  2  4 20 13 12  1  5 19]\n",
      "[ 1  2  4  5 10 12 13 15 19 20]\n",
      "[-20 -19 -15 -13 -12 -10  -5  -4  -2  -1]\n",
      "[20 19 15 13 12 10  5  4  2  1]\n"
     ]
    }
   ],
   "source": [
    "print(arr)\n",
    "print(np.sort(arr))\n",
    "print(np.sort(-(arr)))\n",
    "print(-(np.sort(-(arr))))"
   ]
  },
  {
   "cell_type": "markdown",
   "metadata": {},
   "source": [
    "### Sorting a 2D array"
   ]
  },
  {
   "cell_type": "code",
   "execution_count": 7,
   "metadata": {},
   "outputs": [
    {
     "name": "stdout",
     "output_type": "stream",
     "text": [
      "[[  5  -7  46]\n",
      " [ 19  88  81]\n",
      " [-10 -50   0]\n",
      " [  1   2   3]]\n"
     ]
    }
   ],
   "source": [
    "#2D array\n",
    "\n",
    "lst_2d = [\n",
    "    [5, -7, 46],\n",
    "    [19, 88, 81],\n",
    "    [-10, -50, 0],\n",
    "    [1, 2, 3]\n",
    "]\n",
    "\n",
    "arr_2d = np.array(lst_2d)\n",
    "\n",
    "print(arr_2d)"
   ]
  },
  {
   "cell_type": "markdown",
   "metadata": {},
   "source": [
    "Trying np.sort() in a 2D array sorts it row wise."
   ]
  },
  {
   "cell_type": "code",
   "execution_count": 8,
   "metadata": {},
   "outputs": [
    {
     "name": "stdout",
     "output_type": "stream",
     "text": [
      "[[ -7   5  46]\n",
      " [ 19  81  88]\n",
      " [-50 -10   0]\n",
      " [  1   2   3]]\n"
     ]
    }
   ],
   "source": [
    "print(np.sort(arr_2d))"
   ]
  },
  {
   "cell_type": "markdown",
   "metadata": {},
   "source": [
    "Rows are also called as axis = 1, so we can explicitly give that as a param to the np.sort() and it will sort row wise."
   ]
  },
  {
   "cell_type": "code",
   "execution_count": 9,
   "metadata": {},
   "outputs": [
    {
     "data": {
      "text/plain": [
       "array([[ -7,   5,  46],\n",
       "       [ 19,  81,  88],\n",
       "       [-50, -10,   0],\n",
       "       [  1,   2,   3]])"
      ]
     },
     "execution_count": 9,
     "metadata": {},
     "output_type": "execute_result"
    }
   ],
   "source": [
    "np.sort(arr_2d, axis = 1)"
   ]
  },
  {
   "cell_type": "markdown",
   "metadata": {},
   "source": [
    "Colums are also known as axis = 0, To sort an np array columnwise we can explicitly set the axis = 0."
   ]
  },
  {
   "cell_type": "code",
   "execution_count": 10,
   "metadata": {},
   "outputs": [
    {
     "data": {
      "text/plain": [
       "array([[-10, -50,   0],\n",
       "       [  1,  -7,   3],\n",
       "       [  5,   2,  46],\n",
       "       [ 19,  88,  81]])"
      ]
     },
     "execution_count": 10,
     "metadata": {},
     "output_type": "execute_result"
    }
   ],
   "source": [
    "np.sort(arr_2d, axis = 0)"
   ]
  },
  {
   "cell_type": "markdown",
   "metadata": {},
   "source": [
    "If we set the axis = None, The sort function will flatten the array and then sort it."
   ]
  },
  {
   "cell_type": "code",
   "execution_count": 11,
   "metadata": {},
   "outputs": [
    {
     "data": {
      "text/plain": [
       "array([-50, -10,  -7,   0,   1,   2,   3,   5,  19,  46,  81,  88])"
      ]
     },
     "execution_count": 11,
     "metadata": {},
     "output_type": "execute_result"
    }
   ],
   "source": [
    "np.sort(arr_2d, axis = None)"
   ]
  },
  {
   "cell_type": "markdown",
   "metadata": {},
   "source": [
    "Function argsort() -> It is used to sort the indexes"
   ]
  },
  {
   "cell_type": "code",
   "execution_count": 12,
   "metadata": {},
   "outputs": [
    {
     "name": "stdout",
     "output_type": "stream",
     "text": [
      "[ 33  55  60  67  78  90 100]\n",
      "[1 3 2 0 6 5 4]\n"
     ]
    }
   ],
   "source": [
    "marks = np.array([67,33,60,55,100,90,78])\n",
    "\n",
    "names = np.array(['A','B','C','D','E','F','G'])\n",
    "\n",
    "print(np.sort(marks)) ## Returns the original indices of the elements in sorted order\n",
    "\n",
    "print(np.argsort(marks))\n",
    "\n",
    "sorted_index_order = np.argsort(marks) ##List of indices"
   ]
  },
  {
   "cell_type": "code",
   "execution_count": 14,
   "metadata": {},
   "outputs": [
    {
     "name": "stdout",
     "output_type": "stream",
     "text": [
      "['B' 'D' 'C' 'A' 'G' 'F' 'E']\n"
     ]
    }
   ],
   "source": [
    "print(names[sorted_index_order]) ## This statement will return the list of names of students in ascending order of marks"
   ]
  },
  {
   "cell_type": "code",
   "execution_count": null,
   "metadata": {},
   "outputs": [],
   "source": []
  }
 ],
 "metadata": {
  "kernelspec": {
   "display_name": ".myvenv",
   "language": "python",
   "name": "python3"
  },
  "language_info": {
   "codemirror_mode": {
    "name": "ipython",
    "version": 3
   },
   "file_extension": ".py",
   "mimetype": "text/x-python",
   "name": "python",
   "nbconvert_exporter": "python",
   "pygments_lexer": "ipython3",
   "version": "3.10.12"
  }
 },
 "nbformat": 4,
 "nbformat_minor": 2
}
