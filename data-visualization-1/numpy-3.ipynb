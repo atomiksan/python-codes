{
 "cells": [
  {
   "cell_type": "markdown",
   "metadata": {},
   "source": [
    "## Numpy - 3\n",
    "### Agenda \n",
    "    1. Sorting\n",
    "    2. Multiplication\n",
    "    3. Vectorization\n",
    "    4. Broadcasting"
   ]
  },
  {
   "cell_type": "code",
   "execution_count": 3,
   "metadata": {},
   "outputs": [],
   "source": [
    "import numpy as np"
   ]
  },
  {
   "cell_type": "markdown",
   "metadata": {},
   "source": [
    "## 1. Sorting a Numpy Array\n"
   ]
  },
  {
   "cell_type": "markdown",
   "metadata": {},
   "source": [
    "### Sorting a 1D array\n",
    "#### sort() function\n"
   ]
  },
  {
   "cell_type": "code",
   "execution_count": 4,
   "metadata": {},
   "outputs": [
    {
     "name": "stdout",
     "output_type": "stream",
     "text": [
      "[ 1  2  4  5 10 12 13 15 19 20]\n"
     ]
    }
   ],
   "source": [
    "arr = np.array([10,15,2,4,20,13,12,1,5,19])\n",
    "#sort() function\n",
    "print(np.sort(arr))"
   ]
  },
  {
   "cell_type": "markdown",
   "metadata": {},
   "source": [
    "np.sort() does not have a way to sort in descending order\n",
    "so in order to do descending order sort we do: ascending order sort + reverse the array"
   ]
  },
  {
   "cell_type": "code",
   "execution_count": 5,
   "metadata": {},
   "outputs": [
    {
     "name": "stdout",
     "output_type": "stream",
     "text": [
      "[20 19 15 13 12 10  5  4  2  1]\n"
     ]
    }
   ],
   "source": [
    "print(np.sort(arr)[::-1])"
   ]
  },
  {
   "cell_type": "markdown",
   "metadata": {},
   "source": [
    "Another method we can use is by using a negative sign in front of the array to convert the array elements to a negative int before sorting and then remove the negative sign after sorting."
   ]
  },
  {
   "cell_type": "code",
   "execution_count": 6,
   "metadata": {},
   "outputs": [
    {
     "name": "stdout",
     "output_type": "stream",
     "text": [
      "[10 15  2  4 20 13 12  1  5 19]\n",
      "[ 1  2  4  5 10 12 13 15 19 20]\n",
      "[-20 -19 -15 -13 -12 -10  -5  -4  -2  -1]\n",
      "[20 19 15 13 12 10  5  4  2  1]\n"
     ]
    }
   ],
   "source": [
    "print(arr)\n",
    "print(np.sort(arr))\n",
    "print(np.sort(-(arr)))\n",
    "print(-(np.sort(-(arr))))"
   ]
  },
  {
   "cell_type": "markdown",
   "metadata": {},
   "source": [
    "### Sorting a 2D array"
   ]
  },
  {
   "cell_type": "code",
   "execution_count": 7,
   "metadata": {},
   "outputs": [
    {
     "name": "stdout",
     "output_type": "stream",
     "text": [
      "[[  5  -7  46]\n",
      " [ 19  88  81]\n",
      " [-10 -50   0]\n",
      " [  1   2   3]]\n"
     ]
    }
   ],
   "source": [
    "#2D array\n",
    "\n",
    "lst_2d = [\n",
    "    [5, -7, 46],\n",
    "    [19, 88, 81],\n",
    "    [-10, -50, 0],\n",
    "    [1, 2, 3]\n",
    "]\n",
    "\n",
    "arr_2d = np.array(lst_2d)\n",
    "\n",
    "print(arr_2d)"
   ]
  },
  {
   "cell_type": "markdown",
   "metadata": {},
   "source": [
    "Trying np.sort() in a 2D array sorts it row wise."
   ]
  },
  {
   "cell_type": "code",
   "execution_count": 8,
   "metadata": {},
   "outputs": [
    {
     "name": "stdout",
     "output_type": "stream",
     "text": [
      "[[ -7   5  46]\n",
      " [ 19  81  88]\n",
      " [-50 -10   0]\n",
      " [  1   2   3]]\n"
     ]
    }
   ],
   "source": [
    "print(np.sort(arr_2d))"
   ]
  },
  {
   "cell_type": "markdown",
   "metadata": {},
   "source": [
    "Rows are also called as axis = 1, so we can explicitly give that as a param to the np.sort() and it will sort row wise."
   ]
  },
  {
   "cell_type": "code",
   "execution_count": 9,
   "metadata": {},
   "outputs": [
    {
     "data": {
      "text/plain": [
       "array([[ -7,   5,  46],\n",
       "       [ 19,  81,  88],\n",
       "       [-50, -10,   0],\n",
       "       [  1,   2,   3]])"
      ]
     },
     "execution_count": 9,
     "metadata": {},
     "output_type": "execute_result"
    }
   ],
   "source": [
    "np.sort(arr_2d, axis = 1)"
   ]
  },
  {
   "cell_type": "markdown",
   "metadata": {},
   "source": [
    "Colums are also known as axis = 0, To sort an np array columnwise we can explicitly set the axis = 0."
   ]
  },
  {
   "cell_type": "code",
   "execution_count": 10,
   "metadata": {},
   "outputs": [
    {
     "data": {
      "text/plain": [
       "array([[-10, -50,   0],\n",
       "       [  1,  -7,   3],\n",
       "       [  5,   2,  46],\n",
       "       [ 19,  88,  81]])"
      ]
     },
     "execution_count": 10,
     "metadata": {},
     "output_type": "execute_result"
    }
   ],
   "source": [
    "np.sort(arr_2d, axis = 0)"
   ]
  },
  {
   "cell_type": "markdown",
   "metadata": {},
   "source": [
    "If we set the axis = None, The sort function will flatten the array and then sort it."
   ]
  },
  {
   "cell_type": "code",
   "execution_count": 11,
   "metadata": {},
   "outputs": [
    {
     "data": {
      "text/plain": [
       "array([-50, -10,  -7,   0,   1,   2,   3,   5,  19,  46,  81,  88])"
      ]
     },
     "execution_count": 11,
     "metadata": {},
     "output_type": "execute_result"
    }
   ],
   "source": [
    "np.sort(arr_2d, axis = None)"
   ]
  },
  {
   "cell_type": "markdown",
   "metadata": {},
   "source": [
    "Function argsort() -> It is used to sort the indexes"
   ]
  },
  {
   "cell_type": "code",
   "execution_count": 12,
   "metadata": {},
   "outputs": [
    {
     "name": "stdout",
     "output_type": "stream",
     "text": [
      "[ 33  55  60  67  78  90 100]\n",
      "[1 3 2 0 6 5 4]\n"
     ]
    }
   ],
   "source": [
    "marks = np.array([67,33,60,55,100,90,78])\n",
    "\n",
    "names = np.array(['A','B','C','D','E','F','G'])\n",
    "\n",
    "print(np.sort(marks)) ## Returns the original indices of the elements in sorted order\n",
    "\n",
    "print(np.argsort(marks))\n",
    "\n",
    "sorted_index_order = np.argsort(marks) ##List of indices"
   ]
  },
  {
   "cell_type": "code",
   "execution_count": 14,
   "metadata": {},
   "outputs": [
    {
     "name": "stdout",
     "output_type": "stream",
     "text": [
      "['B' 'D' 'C' 'A' 'G' 'F' 'E']\n"
     ]
    }
   ],
   "source": [
    "print(names[sorted_index_order]) ## This statement will return the list of names of students in ascending order of marks"
   ]
  },
  {
   "cell_type": "markdown",
   "metadata": {},
   "source": [
    "To Find out the indices of the maximum and minimum element in an array we use argmax() and argmin() functions"
   ]
  },
  {
   "cell_type": "code",
   "execution_count": 20,
   "metadata": {},
   "outputs": [
    {
     "name": "stdout",
     "output_type": "stream",
     "text": [
      "4\n",
      "E\n",
      "100\n"
     ]
    }
   ],
   "source": [
    "print(np.argmax(marks)) ##Index of the highest marks\n",
    "print(names[np.argmax(marks)]) ##Name of the person with the highest marks\n",
    "print(marks[np.argmax(marks)]) ##Marks of the person with the highest marks"
   ]
  },
  {
   "cell_type": "code",
   "execution_count": 21,
   "metadata": {},
   "outputs": [
    {
     "name": "stdout",
     "output_type": "stream",
     "text": [
      "1\n",
      "B\n",
      "33\n"
     ]
    }
   ],
   "source": [
    "print(np.argmin(marks)) ##Index of the lowest marks\n",
    "print(names[np.argmin(marks)]) ##Name of the person with the lowest marks\n",
    "print(marks[np.argmin(marks)]) ##Marks of the person with the lowest marks"
   ]
  },
  {
   "cell_type": "markdown",
   "metadata": {},
   "source": [
    "## 2. Multiplication"
   ]
  },
  {
   "cell_type": "markdown",
   "metadata": {},
   "source": [
    "### Multiplication of two vectors"
   ]
  },
  {
   "cell_type": "code",
   "execution_count": 22,
   "metadata": {},
   "outputs": [
    {
     "name": "stdout",
     "output_type": "stream",
     "text": [
      "[   50   700 10000]\n"
     ]
    }
   ],
   "source": [
    "a = np.array([5,7,10])\n",
    "b = np.array([10,100,1000])\n",
    "\n",
    "print(a * b)\n"
   ]
  },
  {
   "cell_type": "markdown",
   "metadata": {},
   "source": [
    "### Multiplication of scaler with vector"
   ]
  },
  {
   "cell_type": "code",
   "execution_count": 23,
   "metadata": {},
   "outputs": [
    {
     "name": "stdout",
     "output_type": "stream",
     "text": [
      "[25 35 50]\n"
     ]
    }
   ],
   "source": [
    "print(a * 5)"
   ]
  },
  {
   "cell_type": "code",
   "execution_count": 24,
   "metadata": {},
   "outputs": [
    {
     "data": {
      "text/plain": [
       "False"
      ]
     },
     "execution_count": 24,
     "metadata": {},
     "output_type": "execute_result"
    }
   ],
   "source": [
    "[5] == 5 ## [5] is a list and 5 is an int both are different objects and not the same"
   ]
  },
  {
   "cell_type": "code",
   "execution_count": 25,
   "metadata": {},
   "outputs": [
    {
     "data": {
      "text/plain": [
       "(1,)"
      ]
     },
     "execution_count": 25,
     "metadata": {},
     "output_type": "execute_result"
    }
   ],
   "source": [
    "np.shape([5])"
   ]
  },
  {
   "cell_type": "code",
   "execution_count": 26,
   "metadata": {},
   "outputs": [
    {
     "data": {
      "text/plain": [
       "()"
      ]
     },
     "execution_count": 26,
     "metadata": {},
     "output_type": "execute_result"
    }
   ],
   "source": [
    "np.shape(5)"
   ]
  },
  {
   "cell_type": "markdown",
   "metadata": {},
   "source": [
    "### Multiplication of two vectors with different lengths"
   ]
  },
  {
   "cell_type": "code",
   "execution_count": 28,
   "metadata": {},
   "outputs": [
    {
     "ename": "ValueError",
     "evalue": "operands could not be broadcast together with shapes (2,) (4,) ",
     "output_type": "error",
     "traceback": [
      "\u001b[0;31m---------------------------------------------------------------------------\u001b[0m",
      "\u001b[0;31mValueError\u001b[0m                                Traceback (most recent call last)",
      "Cell \u001b[0;32mIn[28], line 4\u001b[0m\n\u001b[1;32m      1\u001b[0m vect_1 \u001b[38;5;241m=\u001b[39m np\u001b[38;5;241m.\u001b[39marray([\u001b[38;5;241m5\u001b[39m, \u001b[38;5;241m10\u001b[39m])\n\u001b[1;32m      2\u001b[0m vect_2 \u001b[38;5;241m=\u001b[39m np\u001b[38;5;241m.\u001b[39marray([\u001b[38;5;241m2\u001b[39m, \u001b[38;5;241m4\u001b[39m, \u001b[38;5;241m8\u001b[39m, \u001b[38;5;241m16\u001b[39m])\n\u001b[0;32m----> 4\u001b[0m \u001b[38;5;28mprint\u001b[39m(\u001b[43mvect_1\u001b[49m\u001b[43m \u001b[49m\u001b[38;5;241;43m*\u001b[39;49m\u001b[43m \u001b[49m\u001b[43mvect_2\u001b[49m)\n",
      "\u001b[0;31mValueError\u001b[0m: operands could not be broadcast together with shapes (2,) (4,) "
     ]
    }
   ],
   "source": [
    "vect_1 = np.array([5, 10])\n",
    "vect_2 = np.array([2, 4, 8, 16])\n",
    "\n",
    "print(vect_1 * vect_2)"
   ]
  },
  {
   "cell_type": "markdown",
   "metadata": {},
   "source": [
    "### Elementwise Multiplication of Matrices"
   ]
  },
  {
   "cell_type": "code",
   "execution_count": 29,
   "metadata": {},
   "outputs": [
    {
     "name": "stdout",
     "output_type": "stream",
     "text": [
      "[[1 2]\n",
      " [3 4]]\n",
      "\n",
      "[[10  1]\n",
      " [ 5 55]]\n",
      "\n",
      "[[ 10   2]\n",
      " [ 15 220]]\n"
     ]
    }
   ],
   "source": [
    "m1 = np.array(\n",
    "    [[1, 2],\n",
    "    [3, 4]])\n",
    "\n",
    "\n",
    "m2 = np.array(\n",
    "    [[10, 1],\n",
    "    [5, 55]])\n",
    "\n",
    "print(m1)\n",
    "print()\n",
    "print(m2)\n",
    "print()\n",
    "print(m1 * m2)"
   ]
  },
  {
   "cell_type": "markdown",
   "metadata": {},
   "source": [
    "### Dot product"
   ]
  },
  {
   "cell_type": "markdown",
   "metadata": {},
   "source": [
    "We can use dot() method or @ operator to get the dot product of two vectors."
   ]
  },
  {
   "cell_type": "code",
   "execution_count": 32,
   "metadata": {},
   "outputs": [
    {
     "name": "stdout",
     "output_type": "stream",
     "text": [
      "50\n",
      "50\n"
     ]
    }
   ],
   "source": [
    "v1 = np.array([5, 5, 5])\n",
    "v2 = np.array([2, 3, 5])\n",
    "\n",
    "print(np.dot(v1, v2)) ##using the dot() function\n",
    "print(v1@v2) ##using @ operator"
   ]
  },
  {
   "cell_type": "markdown",
   "metadata": {},
   "source": [
    "Dot product of 2D matrices or Matrix multiplication\n",
    "\n"
   ]
  },
  {
   "cell_type": "code",
   "execution_count": 33,
   "metadata": {},
   "outputs": [
    {
     "name": "stdout",
     "output_type": "stream",
     "text": [
      "[[ 20 111]\n",
      " [ 50 223]]\n"
     ]
    }
   ],
   "source": [
    "print(m1 @ m2)"
   ]
  },
  {
   "cell_type": "code",
   "execution_count": 34,
   "metadata": {},
   "outputs": [
    {
     "ename": "ValueError",
     "evalue": "matmul: Input operand 1 has a mismatch in its core dimension 0, with gufunc signature (n?,k),(k,m?)->(n?,m?) (size 2 is different from 3)",
     "output_type": "error",
     "traceback": [
      "\u001b[0;31m---------------------------------------------------------------------------\u001b[0m",
      "\u001b[0;31mValueError\u001b[0m                                Traceback (most recent call last)",
      "Cell \u001b[0;32mIn[34], line 11\u001b[0m\n\u001b[1;32m      1\u001b[0m m3 \u001b[38;5;241m=\u001b[39m np\u001b[38;5;241m.\u001b[39marray([\n\u001b[1;32m      2\u001b[0m     [\u001b[38;5;241m1\u001b[39m, \u001b[38;5;241m3\u001b[39m, \u001b[38;5;241m5\u001b[39m],\n\u001b[1;32m      3\u001b[0m     [\u001b[38;5;241m4\u001b[39m, \u001b[38;5;241m7\u001b[39m, \u001b[38;5;241m9\u001b[39m]\n\u001b[1;32m      4\u001b[0m ])\n\u001b[1;32m      6\u001b[0m m4 \u001b[38;5;241m=\u001b[39m np\u001b[38;5;241m.\u001b[39marray([\n\u001b[1;32m      7\u001b[0m     [\u001b[38;5;241m11\u001b[39m, \u001b[38;5;241m12\u001b[39m, \u001b[38;5;241m10\u001b[39m],\n\u001b[1;32m      8\u001b[0m     [\u001b[38;5;241m9\u001b[39m, \u001b[38;5;241m12\u001b[39m, \u001b[38;5;241m6\u001b[39m]\n\u001b[1;32m      9\u001b[0m ])\n\u001b[0;32m---> 11\u001b[0m \u001b[38;5;28mprint\u001b[39m(\u001b[43mm3\u001b[49m\u001b[43m \u001b[49m\u001b[38;5;241;43m@\u001b[39;49m\u001b[43m \u001b[49m\u001b[43mm4\u001b[49m)\n",
      "\u001b[0;31mValueError\u001b[0m: matmul: Input operand 1 has a mismatch in its core dimension 0, with gufunc signature (n?,k),(k,m?)->(n?,m?) (size 2 is different from 3)"
     ]
    }
   ],
   "source": [
    "m3 = np.array([\n",
    "    [1, 3, 5],\n",
    "    [4, 7, 9]\n",
    "])\n",
    "\n",
    "m4 = np.array([\n",
    "    [11, 12, 10],\n",
    "    [9, 12, 6]\n",
    "])\n",
    "\n",
    "print(m3 @ m4)"
   ]
  },
  {
   "cell_type": "code",
   "execution_count": null,
   "metadata": {},
   "outputs": [],
   "source": []
  }
 ],
 "metadata": {
  "kernelspec": {
   "display_name": ".myvenv",
   "language": "python",
   "name": "python3"
  },
  "language_info": {
   "codemirror_mode": {
    "name": "ipython",
    "version": 3
   },
   "file_extension": ".py",
   "mimetype": "text/x-python",
   "name": "python",
   "nbconvert_exporter": "python",
   "pygments_lexer": "ipython3",
   "version": "3.10.12"
  }
 },
 "nbformat": 4,
 "nbformat_minor": 2
}
